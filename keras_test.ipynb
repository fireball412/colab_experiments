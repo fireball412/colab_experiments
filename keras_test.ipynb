{
  "nbformat": 4,
  "nbformat_minor": 0,
  "metadata": {
    "colab": {
      "name": "keras_test.ipynb",
      "provenance": [],
      "collapsed_sections": [],
      "authorship_tag": "ABX9TyMxsBMg3x+jzE8DOssv2gz+",
      "include_colab_link": true
    },
    "kernelspec": {
      "name": "python3",
      "display_name": "Python 3"
    }
  },
  "cells": [
    {
      "cell_type": "markdown",
      "metadata": {
        "id": "view-in-github",
        "colab_type": "text"
      },
      "source": [
        "<a href=\"https://colab.research.google.com/github/fireball412/colab_experiments/blob/main/keras_test.ipynb\" target=\"_parent\"><img src=\"https://colab.research.google.com/assets/colab-badge.svg\" alt=\"Open In Colab\"/></a>"
      ]
    },
    {
      "cell_type": "markdown",
      "metadata": {
        "id": "VMjZBf9XDIcn"
      },
      "source": [
        ""
      ]
    },
    {
      "cell_type": "markdown",
      "metadata": {
        "id": "JHCeXf1mDbDZ"
      },
      "source": [
        "# Train a Simple TensorFlow Lite for Microcontrollers model"
      ]
    },
    {
      "cell_type": "markdown",
      "metadata": {
        "id": "j1sJrdChD2A6"
      },
      "source": [
        "## Configure Defaults"
      ]
    },
    {
      "cell_type": "code",
      "metadata": {
        "id": "v2cFeYN4AxQi"
      },
      "source": [
        "# Define paths to model files\r\n",
        "import os\r\n",
        "MODELS_DIR = 'models/'\r\n",
        "if not os.path.exists(MODELS_DIR):\r\n",
        "    os.mkdir(MODELS_DIR)\r\n",
        "MODEL_TF = MODELS_DIR + 'model'\r\n",
        "MODEL_NO_QUANT_TFLITE = MODELS_DIR + 'model_no_quant.tflite'\r\n",
        "MODEL_TFLITE = MODELS_DIR + 'model.tflite'\r\n",
        "MODEL_TFLITE_MICRO = MODELS_DIR + 'model.cc'"
      ],
      "execution_count": 1,
      "outputs": []
    },
    {
      "cell_type": "markdown",
      "metadata": {
        "id": "rADLcbYYEWUe"
      },
      "source": [
        "## Setup Environment"
      ]
    }
  ]
}